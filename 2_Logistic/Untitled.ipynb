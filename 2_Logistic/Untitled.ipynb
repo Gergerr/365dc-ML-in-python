{
 "cells": [
  {
   "cell_type": "code",
   "execution_count": 1,
   "id": "de66f6e4-e5ff-4cfd-b8ad-d9035503cee3",
   "metadata": {},
   "outputs": [],
   "source": [
    "N = 10000\n",
    "time = 0\n",
    "A = 0\n",
    "B = 0\n",
    "C = 0"
   ]
  },
  {
   "cell_type": "code",
   "execution_count": 2,
   "id": "7a645803-f017-44a8-a5d5-cd3999f4c5bd",
   "metadata": {},
   "outputs": [],
   "source": [
    "import random as rand"
   ]
  },
  {
   "cell_type": "code",
   "execution_count": null,
   "id": "ed145980-ad72-4006-9d94-4564c332548b",
   "metadata": {},
   "outputs": [],
   "source": [
    "for i in range(1, N+1):\n",
    "    kas = rand.randint(0, 2)\n",
    "    while time< 100:\n",
    "        if kas == 0:\n",
    "            c1 = rand.uniform(0, 1)\n",
    "            if c1 < 0.6:\n",
    "                A += 1\n",
    "                time = time + 25"
   ]
  },
  {
   "cell_type": "code",
   "execution_count": null,
   "id": "08a3dc20-79ea-4304-8e2a-edfc860dd8dc",
   "metadata": {},
   "outputs": [],
   "source": []
  }
 ],
 "metadata": {
  "kernelspec": {
   "display_name": "Python 3 (ipykernel)",
   "language": "python",
   "name": "python3"
  },
  "language_info": {
   "codemirror_mode": {
    "name": "ipython",
    "version": 3
   },
   "file_extension": ".py",
   "mimetype": "text/x-python",
   "name": "python",
   "nbconvert_exporter": "python",
   "pygments_lexer": "ipython3",
   "version": "3.9.15"
  }
 },
 "nbformat": 4,
 "nbformat_minor": 5
}
